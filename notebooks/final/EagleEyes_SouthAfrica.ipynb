{
 "cells": [
  {
   "cell_type": "markdown",
   "id": "treated-labor",
   "metadata": {},
   "source": [
    "# AI4Food Security South Africa"
   ]
  },
  {
   "cell_type": "markdown",
   "id": "satisfactory-triangle",
   "metadata": {},
   "source": [
    "Team EagleEyes:\n",
    "    \n",
    "    Christina Bukas, HMGU\n",
    "    Elisabeth Georgii, HMGU\n",
    "    Frauke Albrecht, DKRZ\n",
    "    Caroline Arnold, DKRZ\n",
    "    "
   ]
  },
  {
   "cell_type": "markdown",
   "id": "decent-crowd",
   "metadata": {},
   "source": [
    "## Introduction"
   ]
  },
  {
   "cell_type": "markdown",
   "id": "animal-bottom",
   "metadata": {},
   "source": [
    "The aim of this challenge is to identify crop types in-season using Planet, Sentinel-1, and Sentinel-2 data. Field boundaries and cropy type labels are given as ground truth data."
   ]
  },
  {
   "cell_type": "markdown",
   "id": "auburn-coupon",
   "metadata": {},
   "source": [
    "## Setup"
   ]
  },
  {
   "cell_type": "markdown",
   "id": "animated-locator",
   "metadata": {},
   "source": [
    "In the following cell, all modules are imported that are necessary in this notebook."
   ]
  },
  {
   "cell_type": "code",
   "execution_count": null,
   "id": "naked-maldives",
   "metadata": {},
   "outputs": [],
   "source": []
  },
  {
   "cell_type": "markdown",
   "id": "polar-discussion",
   "metadata": {},
   "source": [
    "## Data exploration"
   ]
  },
  {
   "cell_type": "markdown",
   "id": "wound-leader",
   "metadata": {},
   "source": [
    "### Preprocessing"
   ]
  },
  {
   "cell_type": "markdown",
   "id": "irish-manhattan",
   "metadata": {},
   "source": [
    "Data from Planet, Sentinel-1, and Sentinel-2 satellites are given for a region in South Africa. We process the datasets individually, building on the routines that were provided through the starter notebook. The workflow is described here for Planet data.\n",
    "\n",
    "1. Rasterize the satellite images using the provided routines, for each field save a zip file containing the time series of bands and the mask \n",
    "2. Load the field ID and apply custom data transform. Available transforms are: spatial average, crop image, extract fixed number of pixels\n",
    "3. Save as `hdf5` files for use in training"
   ]
  },
  {
   "cell_type": "markdown",
   "id": "molecular-exchange",
   "metadata": {},
   "source": [
    "The full preprocessing module is included in `dataloaders/preprocessor.py`, with the dataset readers in `dataloaders/custom_{planet,sentinel_1,sentinel_2}_reader.py` and the image transforms in `dataloaders/custom_data_transform.py`. "
   ]
  },
  {
   "cell_type": "markdown",
   "id": "surrounded-workshop",
   "metadata": {},
   "source": [
    "We generated the training data by running\n",
    "\n",
    "`python preprocessor.py --region south-africa --data-source planet --t-random-extraction 640 --n-processes 64 --target-sub-dir extracted-640 --overwrite`\n",
    "\n",
    "`python preprocessor.py --region south-africa --data-source sentinel-1 --t-random-extraction 640 --n-processes 64 --target-sub-dir extracted-640 --overwrite`\n",
    "\n",
    "`python preprocessor.py --region south-africa --data-source sentinel-2 --t-random-extraction 640 --n-processes 64 --target-sub-dir extracted-640 --overwrite`"
   ]
  },
  {
   "cell_type": "markdown",
   "id": "dress-planner",
   "metadata": {},
   "source": [
    "This extracts 640 pixels at random from a field, taking into account only the valid pixels as given by the mask. We resample if there are less than 640 pixels are available. Then, out of each field, we create 10 training samples, containing 64 extracted pixels each. Thus, we arrive at a total count of 41430 samples that can be used in training / validation. For the test set, 64 pixels are extracted at random per field."
   ]
  },
  {
   "cell_type": "markdown",
   "id": "completed-norman",
   "metadata": {},
   "source": [
    "### Training and validation"
   ]
  },
  {
   "cell_type": "markdown",
   "id": "extra-indicator",
   "metadata": {},
   "source": [
    "We use 10-fold cross validation, dividing the labeled data into training and validation set by field ID."
   ]
  },
  {
   "cell_type": "markdown",
   "id": "hearing-chuck",
   "metadata": {},
   "source": [
    "### Exploration"
   ]
  },
  {
   "cell_type": "markdown",
   "id": "operational-portsmouth",
   "metadata": {},
   "source": [
    "The crop types are not evenly distributed:"
   ]
  },
  {
   "cell_type": "markdown",
   "id": "cubic-navigator",
   "metadata": {},
   "source": [
    "<img src=\"fig_south_africa_crop_id_barplot.png\" alt=\"bar plot of crop types\" title=\"Available crop types for South Africa\" width=\"350\"/>\n"
   ]
  },
  {
   "cell_type": "markdown",
   "id": "vietnamese-longer",
   "metadata": {},
   "source": [
    "We calculate the normalized vegetation index NDVI as the normalized difference of infrared and red planet data bands. Below the average NDVI is shown throughout the growing season for the different crop types. "
   ]
  },
  {
   "cell_type": "markdown",
   "id": "advance-practitioner",
   "metadata": {},
   "source": [
    "<img src=\"fig_south_africa_crop_id_ndvi.png\" alt=\"bar plot of crop types\" title=\"Available crop types for South Africa\" width=\"350\"/>\n"
   ]
  },
  {
   "cell_type": "markdown",
   "id": "cardiac-monday",
   "metadata": {},
   "source": [
    "## PSELTAE Model"
   ]
  },
  {
   "cell_type": "markdown",
   "id": "oriented-reducing",
   "metadata": {},
   "source": [
    "## Results"
   ]
  },
  {
   "cell_type": "markdown",
   "id": "precise-czech",
   "metadata": {},
   "source": [
    "<img src=\"fig_south_africa_predictions_map.png\" alt=\"Predicted crop names for South Africa\" title=\"Predicted crop types for South Africa\" width=\"500\"/>\n"
   ]
  },
  {
   "cell_type": "code",
   "execution_count": null,
   "id": "married-proxy",
   "metadata": {},
   "outputs": [],
   "source": []
  }
 ],
 "metadata": {
  "kernelspec": {
   "display_name": "Python 3",
   "language": "python",
   "name": "python3"
  },
  "language_info": {
   "codemirror_mode": {
    "name": "ipython",
    "version": 3
   },
   "file_extension": ".py",
   "mimetype": "text/x-python",
   "name": "python",
   "nbconvert_exporter": "python",
   "pygments_lexer": "ipython3",
   "version": "3.9.1"
  }
 },
 "nbformat": 4,
 "nbformat_minor": 5
}
