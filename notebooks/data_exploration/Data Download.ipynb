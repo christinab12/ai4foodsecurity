{
 "cells": [
  {
   "cell_type": "raw",
   "metadata": {},
   "source": [
    "Get your API Key: https://mlhub.earth/"
   ]
  },
  {
   "cell_type": "code",
   "execution_count": null,
   "metadata": {},
   "outputs": [],
   "source": [
    "from radiant_mlhub import Dataset\n",
    "import os\n",
    "\n",
    "os.environ['MLHUB_API_KEY'] = 'd9343c4e04604a091a2973e5ca53cdb22e57f56a4e5218b69741ebaa10955046'\n",
    "\n",
    "data_dir = '/work/ka1176/shared_data/2021-ai4food/raw_data'\n",
    "\n",
    "if not os.path.exists(data_dir):\n",
    "    os.mkdir(data_dir)"
   ]
  },
  {
   "cell_type": "code",
   "execution_count": 3,
   "metadata": {},
   "outputs": [
    {
     "name": "stdout",
     "output_type": "stream",
     "text": [
      "dlr_fusion_competition_germany: A Fusion Dataset for Crop Type Classification in Germany\n"
     ]
    },
    {
     "data": {
      "text/plain": [
       "[PosixPath('/mnt/lustre02/work/ka1176/shared_data/2021-ai4food/raw_data/dlr_fusion_competition_germany_train_source_planet.tar.gz'),\n",
       " PosixPath('/mnt/lustre02/work/ka1176/shared_data/2021-ai4food/raw_data/dlr_fusion_competition_germany_train_source_planet_5day.tar.gz'),\n",
       " PosixPath('/mnt/lustre02/work/ka1176/shared_data/2021-ai4food/raw_data/dlr_fusion_competition_germany_train_source_sentinel_1.tar.gz'),\n",
       " PosixPath('/mnt/lustre02/work/ka1176/shared_data/2021-ai4food/raw_data/dlr_fusion_competition_germany_train_source_sentinel_2.tar.gz'),\n",
       " PosixPath('/mnt/lustre02/work/ka1176/shared_data/2021-ai4food/raw_data/dlr_fusion_competition_germany_test_source_planet.tar.gz'),\n",
       " PosixPath('/mnt/lustre02/work/ka1176/shared_data/2021-ai4food/raw_data/dlr_fusion_competition_germany_test_source_planet_5day.tar.gz'),\n",
       " PosixPath('/mnt/lustre02/work/ka1176/shared_data/2021-ai4food/raw_data/dlr_fusion_competition_germany_test_source_sentinel_1.tar.gz'),\n",
       " PosixPath('/mnt/lustre02/work/ka1176/shared_data/2021-ai4food/raw_data/dlr_fusion_competition_germany_test_source_sentinel_2.tar.gz'),\n",
       " PosixPath('/mnt/lustre02/work/ka1176/shared_data/2021-ai4food/raw_data/dlr_fusion_competition_germany_train_labels.tar.gz'),\n",
       " PosixPath('/mnt/lustre02/work/ka1176/shared_data/2021-ai4food/raw_data/dlr_fusion_competition_germany_test_labels.tar.gz')]"
      ]
     },
     "execution_count": 3,
     "metadata": {},
     "output_type": "execute_result"
    }
   ],
   "source": [
    "# Download the Brandenburg-Germany Dataset\n",
    "dataset = Dataset.fetch('dlr_fusion_competition_germany')\n",
    "print(f'{dataset.id}: {dataset.title}')\n",
    "dataset.download(data_dir)"
   ]
  },
  {
   "cell_type": "code",
   "execution_count": 4,
   "metadata": {},
   "outputs": [
    {
     "name": "stdout",
     "output_type": "stream",
     "text": [
      "ref_fusion_competition_south_africa: A Fusion Dataset for Crop Type Classification in Western Cape, South Africa\n"
     ]
    },
    {
     "data": {
      "text/plain": [
       "[PosixPath('/mnt/lustre02/work/ka1176/shared_data/2021-ai4food/raw_data/ref_fusion_competition_south_africa_train_source_planet.tar.gz'),\n",
       " PosixPath('/mnt/lustre02/work/ka1176/shared_data/2021-ai4food/raw_data/ref_fusion_competition_south_africa_train_source_planet_5day.tar.gz'),\n",
       " PosixPath('/mnt/lustre02/work/ka1176/shared_data/2021-ai4food/raw_data/ref_fusion_competition_south_africa_train_source_sentinel_1.tar.gz'),\n",
       " PosixPath('/mnt/lustre02/work/ka1176/shared_data/2021-ai4food/raw_data/ref_fusion_competition_south_africa_train_source_sentinel_2.tar.gz'),\n",
       " PosixPath('/mnt/lustre02/work/ka1176/shared_data/2021-ai4food/raw_data/ref_fusion_competition_south_africa_test_source_planet.tar.gz'),\n",
       " PosixPath('/mnt/lustre02/work/ka1176/shared_data/2021-ai4food/raw_data/ref_fusion_competition_south_africa_test_source_planet_5day.tar.gz'),\n",
       " PosixPath('/mnt/lustre02/work/ka1176/shared_data/2021-ai4food/raw_data/ref_fusion_competition_south_africa_test_source_sentinel_1.tar.gz'),\n",
       " PosixPath('/mnt/lustre02/work/ka1176/shared_data/2021-ai4food/raw_data/ref_fusion_competition_south_africa_test_source_sentinel_2.tar.gz'),\n",
       " PosixPath('/mnt/lustre02/work/ka1176/shared_data/2021-ai4food/raw_data/ref_fusion_competition_south_africa_train_labels.tar.gz'),\n",
       " PosixPath('/mnt/lustre02/work/ka1176/shared_data/2021-ai4food/raw_data/ref_fusion_competition_south_africa_test_labels.tar.gz')]"
      ]
     },
     "execution_count": 4,
     "metadata": {},
     "output_type": "execute_result"
    }
   ],
   "source": [
    "# Download the South Africa Dataset\n",
    "dataset = Dataset.fetch('ref_fusion_competition_south_africa')\n",
    "print(f'{dataset.id}: {dataset.title}')\n",
    "dataset.download(data_dir)"
   ]
  },
  {
   "cell_type": "code",
   "execution_count": 5,
   "metadata": {},
   "outputs": [],
   "source": [
    "# Extract all the compressed files\n",
    "# --- unzipper(data_dir)\n",
    "# this would be painfully slow - maybe it is a file system issue to create many small files during unpacking\n",
    "# i will submit this as separate jobs to slurm"
   ]
  },
  {
   "cell_type": "code",
   "execution_count": null,
   "metadata": {},
   "outputs": [],
   "source": []
  }
 ],
 "metadata": {
  "kernelspec": {
   "display_name": "Python 3 bleeding edge (using the module anaconda3/bleeding_edge)",
   "language": "python",
   "name": "anaconda3_bleeding"
  },
  "language_info": {
   "codemirror_mode": {
    "name": "ipython",
    "version": 3
   },
   "file_extension": ".py",
   "mimetype": "text/x-python",
   "name": "python",
   "nbconvert_exporter": "python",
   "pygments_lexer": "ipython3",
   "version": "3.6.10"
  }
 },
 "nbformat": 4,
 "nbformat_minor": 4
}
