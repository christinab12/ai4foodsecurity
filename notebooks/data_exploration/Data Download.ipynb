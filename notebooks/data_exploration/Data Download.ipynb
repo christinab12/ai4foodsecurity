{
 "cells": [
  {
   "cell_type": "code",
   "execution_count": 1,
   "metadata": {
    "scrolled": true
   },
   "outputs": [
    {
     "name": "stdout",
     "output_type": "stream",
     "text": [
      "WARNING: pip is being invoked by an old script wrapper. This will fail in a future version of pip.\n",
      "Please see https://github.com/pypa/pip/issues/5599 for advice on fixing the underlying issue.\n",
      "To avoid this problem you can invoke Python with '-m pip' instead of running pip directly.\n",
      "Defaulting to user installation because normal site-packages is not writeable\n",
      "Requirement already satisfied: radiant-mlhub in /mnt/lustre01/pf/k/k202141/.local/lib/python3.6/site-packages (0.2.2)\n",
      "Requirement already satisfied: requests~=2.25.1 in /mnt/lustre01/pf/k/k202141/.local/lib/python3.6/site-packages (from radiant-mlhub) (2.25.1)\n",
      "Requirement already satisfied: tqdm~=4.56.0 in /mnt/lustre01/pf/k/k202141/.local/lib/python3.6/site-packages (from radiant-mlhub) (4.56.2)\n",
      "Requirement already satisfied: click~=7.1.2 in /mnt/lustre01/pf/k/k202141/.local/lib/python3.6/site-packages (from radiant-mlhub) (7.1.2)\n",
      "Requirement already satisfied: pystac==0.5.4 in /mnt/lustre01/pf/k/k202141/.local/lib/python3.6/site-packages (from radiant-mlhub) (0.5.4)\n",
      "Requirement already satisfied: certifi>=2017.4.17 in /sw/rhel6-x64/conda/anaconda3-bleeding_edge/lib/python3.6/site-packages (from requests~=2.25.1->radiant-mlhub) (2020.12.5)\n",
      "Requirement already satisfied: idna<3,>=2.5 in /sw/rhel6-x64/conda/anaconda3-bleeding_edge/lib/python3.6/site-packages (from requests~=2.25.1->radiant-mlhub) (2.8)\n",
      "Requirement already satisfied: chardet<5,>=3.0.2 in /sw/rhel6-x64/conda/anaconda3-bleeding_edge/lib/python3.6/site-packages (from requests~=2.25.1->radiant-mlhub) (3.0.4)\n",
      "Requirement already satisfied: urllib3<1.27,>=1.21.1 in /sw/rhel6-x64/conda/anaconda3-bleeding_edge/lib/python3.6/site-packages (from requests~=2.25.1->radiant-mlhub) (1.25.8)\n",
      "Requirement already satisfied: python-dateutil>=2.7.0 in /sw/rhel6-x64/conda/anaconda3-bleeding_edge/lib/python3.6/site-packages (from pystac==0.5.4->radiant-mlhub) (2.8.1)\n",
      "Requirement already satisfied: six>=1.5 in /sw/rhel6-x64/conda/anaconda3-bleeding_edge/lib/python3.6/site-packages (from python-dateutil>=2.7.0->pystac==0.5.4->radiant-mlhub) (1.14.0)\n"
     ]
    }
   ],
   "source": [
    "!pip install radiant-mlhub"
   ]
  },
  {
   "cell_type": "raw",
   "metadata": {},
   "source": [
    "Get your API Key: https://mlhub.earth/"
   ]
  },
  {
   "cell_type": "code",
   "execution_count": 2,
   "metadata": {},
   "outputs": [],
   "source": [
    "from radiant_mlhub import Dataset\n",
    "import os\n",
    "\n",
    "os.environ['MLHUB_API_KEY'] = 'd9343c4e04604a091a2973e5ca53cdb22e57f56a4e5218b69741ebaa10955046'\n",
    "\n",
    "data_dir = '/work/ka1176/shared_data/2021-ai4food/raw_data'\n",
    "\n",
    "if not os.path.exists(data_dir):\n",
    "    os.mkdir(data_dir)"
   ]
  },
  {
   "cell_type": "code",
   "execution_count": 3,
   "metadata": {},
   "outputs": [
    {
     "name": "stdout",
     "output_type": "stream",
     "text": [
      "dlr_fusion_competition_germany: A Fusion Dataset for Crop Type Classification in Germany\n"
     ]
    },
    {
     "data": {
      "application/vnd.jupyter.widget-view+json": {
       "model_id": "63c26a00f67941cdb08d682a1bbc5dcb",
       "version_major": 2,
       "version_minor": 0
      },
      "text/plain": [
       "  0%|          | 0/1.5 [00:00<?, ?M/s]"
      ]
     },
     "metadata": {},
     "output_type": "display_data"
    },
    {
     "data": {
      "text/plain": [
       "[PosixPath('/mnt/lustre02/work/ka1176/shared_data/2021-ai4food/raw_data/dlr_fusion_competition_germany_train_source_planet.tar.gz'),\n",
       " PosixPath('/mnt/lustre02/work/ka1176/shared_data/2021-ai4food/raw_data/dlr_fusion_competition_germany_train_source_planet_5day.tar.gz'),\n",
       " PosixPath('/mnt/lustre02/work/ka1176/shared_data/2021-ai4food/raw_data/dlr_fusion_competition_germany_train_source_sentinel_1.tar.gz'),\n",
       " PosixPath('/mnt/lustre02/work/ka1176/shared_data/2021-ai4food/raw_data/dlr_fusion_competition_germany_train_source_sentinel_2.tar.gz'),\n",
       " PosixPath('/mnt/lustre02/work/ka1176/shared_data/2021-ai4food/raw_data/dlr_fusion_competition_germany_test_source_planet.tar.gz'),\n",
       " PosixPath('/mnt/lustre02/work/ka1176/shared_data/2021-ai4food/raw_data/dlr_fusion_competition_germany_test_source_planet_5day.tar.gz'),\n",
       " PosixPath('/mnt/lustre02/work/ka1176/shared_data/2021-ai4food/raw_data/dlr_fusion_competition_germany_test_source_sentinel_1.tar.gz'),\n",
       " PosixPath('/mnt/lustre02/work/ka1176/shared_data/2021-ai4food/raw_data/dlr_fusion_competition_germany_test_source_sentinel_2.tar.gz'),\n",
       " PosixPath('/mnt/lustre02/work/ka1176/shared_data/2021-ai4food/raw_data/dlr_fusion_competition_germany_train_labels.tar.gz'),\n",
       " PosixPath('/mnt/lustre02/work/ka1176/shared_data/2021-ai4food/raw_data/dlr_fusion_competition_germany_test_labels.tar.gz')]"
      ]
     },
     "execution_count": 3,
     "metadata": {},
     "output_type": "execute_result"
    }
   ],
   "source": [
    "# Download the Brandenburg-Germany Dataset\n",
    "dataset = Dataset.fetch('dlr_fusion_competition_germany')\n",
    "print(f'{dataset.id}: {dataset.title}')\n",
    "dataset.download(data_dir)"
   ]
  },
  {
   "cell_type": "code",
   "execution_count": null,
   "metadata": {},
   "outputs": [
    {
     "name": "stdout",
     "output_type": "stream",
     "text": [
      "ref_fusion_competition_south_africa: A Fusion Dataset for Crop Type Classification in Western Cape, South Africa\n"
     ]
    },
    {
     "data": {
      "application/vnd.jupyter.widget-view+json": {
       "model_id": "1785b8963422499c99c70ee4de443b64",
       "version_major": 2,
       "version_minor": 0
      },
      "text/plain": [
       "  0%|          | 0/159666.6 [00:00<?, ?M/s]"
      ]
     },
     "metadata": {},
     "output_type": "display_data"
    },
    {
     "data": {
      "application/vnd.jupyter.widget-view+json": {
       "model_id": "aae6eed3f9fb4648a4c44ecd5daca776",
       "version_major": 2,
       "version_minor": 0
      },
      "text/plain": [
       "  0%|          | 0/30157.0 [00:00<?, ?M/s]"
      ]
     },
     "metadata": {},
     "output_type": "display_data"
    }
   ],
   "source": [
    "# Download the South Africa Dataset\n",
    "dataset = Dataset.fetch('ref_fusion_competition_south_africa')\n",
    "print(f'{dataset.id}: {dataset.title}')\n",
    "dataset.download(data_dir)"
   ]
  },
  {
   "cell_type": "code",
   "execution_count": null,
   "metadata": {},
   "outputs": [],
   "source": [
    "# Extract all the compressed files\n",
    "unzipper(data_dir)"
   ]
  },
  {
   "cell_type": "code",
   "execution_count": null,
   "metadata": {},
   "outputs": [],
   "source": []
  }
 ],
 "metadata": {
  "kernelspec": {
   "display_name": "Python 3 bleeding edge (using the module anaconda3/bleeding_edge)",
   "language": "python",
   "name": "anaconda3_bleeding"
  },
  "language_info": {
   "codemirror_mode": {
    "name": "ipython",
    "version": 3
   },
   "file_extension": ".py",
   "mimetype": "text/x-python",
   "name": "python",
   "nbconvert_exporter": "python",
   "pygments_lexer": "ipython3",
   "version": "3.6.10"
  }
 },
 "nbformat": 4,
 "nbformat_minor": 4
}
