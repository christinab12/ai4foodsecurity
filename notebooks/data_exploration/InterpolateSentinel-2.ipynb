{
 "cells": [
  {
   "cell_type": "code",
   "execution_count": null,
   "metadata": {},
   "outputs": [],
   "source": [
    "import numpy as np\n",
    "import h5py\n",
    "\n",
    "from matplotlib import pyplot as plt\n",
    "\n",
    "from scipy.interpolate import interp1d, splrep, splev"
   ]
  },
  {
   "cell_type": "code",
   "execution_count": null,
   "metadata": {},
   "outputs": [],
   "source": [
    "train_data = h5py.File('/work/ka1176/shared_data/2021-ai4food/dev_data/south-africa/sentinel-2/extracted/train_data.h5', 'r')"
   ]
  },
  {
   "cell_type": "code",
   "execution_count": null,
   "metadata": {},
   "outputs": [],
   "source": [
    "image_stack = train_data['image_stack']\n",
    "print(image_stack.shape)"
   ]
  },
  {
   "cell_type": "code",
   "execution_count": null,
   "metadata": {},
   "outputs": [],
   "source": [
    "clp = image_stack[:, :, -1]"
   ]
  },
  {
   "cell_type": "code",
   "execution_count": null,
   "metadata": {},
   "outputs": [],
   "source": [
    "clp.shape"
   ]
  },
  {
   "cell_type": "code",
   "execution_count": null,
   "metadata": {},
   "outputs": [],
   "source": [
    "# lets just select one pixel time series"
   ]
  },
  {
   "cell_type": "code",
   "execution_count": null,
   "metadata": {},
   "outputs": [],
   "source": [
    "s_ix = 2000 # sample\n",
    "p_ix = 43  # pixel\n",
    "b_ix = 2   # band"
   ]
  },
  {
   "cell_type": "code",
   "execution_count": null,
   "metadata": {},
   "outputs": [],
   "source": [
    "bands = image_stack[s_ix, :, b_ix, p_ix]\n",
    "cloud = image_stack[s_ix, :, -1,   p_ix] * 1e4 / 255\n",
    "print(bands.shape)\n",
    "\n",
    "band_2 = image_stack[s_ix, :, 1, p_ix] # Blue\n",
    "band_3 = image_stack[s_ix, :, 2, p_ix] # Green\n",
    "band_4 = image_stack[s_ix, :, 3, p_ix] # Red\n",
    "band_8 = image_stack[s_ix, :, 7, p_ix] # NIR\n",
    "\n",
    "band_8A = image_stack[s_ix, :, 8, p_ix]\n",
    "band_11 = image_stack[s_ix, :, 10, p_ix]\n",
    "band_12 = image_stack[s_ix, :, 11, p_ix]\n",
    "\n",
    "bands = (band_8 - band_4) / (band_8 + band_4) # ndvi\n",
    "#bands = (band_8A - band_4) / (band_8A + band_4) # ndvi\n",
    "\n",
    "#bands = (band_8A - band_11) / (band_11 - band_8A) # moisture index\n",
    "\n",
    "bands = (band_8A - (band_11 - band_12)) / (band_8A + (band_11 - band_12)) # nmdi normalized multi band drought index"
   ]
  },
  {
   "cell_type": "code",
   "execution_count": null,
   "metadata": {},
   "outputs": [],
   "source": [
    "plt.plot(bands)\n",
    "plt.plot(cloud)"
   ]
  },
  {
   "cell_type": "code",
   "execution_count": null,
   "metadata": {},
   "outputs": [],
   "source": [
    "#clp_thresholds = [0.05, 0.075, 0.1, 0.125, 0.15, 0.2, 1.1]\n",
    "clp_thresholds = [0.05, 0.1, 0.125, 1.1]\n",
    "timesteps = np.arange(len(bands))\n",
    "\n",
    "fig, axs = plt.subplots(1, len(clp_thresholds), figsize=(22,4), sharex=True, sharey=True)\n",
    "\n",
    "for ax, clpt in zip(axs, clp_thresholds):\n",
    "    \n",
    "    good_ix = np.where(cloud < clpt)[0]\n",
    "    \n",
    "    first_is_bad = False\n",
    "    last_is_bad  = False\n",
    "    \n",
    "    if not 0 in good_ix:\n",
    "        good_ix = list([0]) + list(good_ix)\n",
    "        first_is_bad = True\n",
    "    if not len(cloud) - 1 in good_ix:\n",
    "        good_ix = list(good_ix) + list([len(cloud) - 1])\n",
    "        last_is_bad = True\n",
    "    \n",
    "    good_x = timesteps[good_ix]\n",
    "    good_y = bands[good_ix]\n",
    "    \n",
    "    if first_is_bad:\n",
    "        good_y[0] = good_y[1]\n",
    "    if last_is_bad:\n",
    "        good_y[-1] = good_y[-2]\n",
    "    \n",
    "    f = interp1d(good_x, good_y, kind='linear')\n",
    "    \n",
    "    interp_y = f(timesteps)\n",
    "    \n",
    "    weights = (1.0 - cloud[good_ix])**(20)\n",
    "    g = splrep(good_x, good_y, k=3, w=weights)\n",
    "    interp_y1 = splev(timesteps, g)\n",
    "    \n",
    "    ax.plot(timesteps[good_ix], bands[good_ix], 'o--')\n",
    "    ax.plot(timesteps, interp_y, ':')\n",
    "    ax.plot(timesteps, interp_y1, ':')\n",
    "    \n",
    "    g = splrep(good_x, good_y, k=3)\n",
    "    interp_y1 = splev(timesteps, g)\n",
    "    ax.plot(timesteps, interp_y1, ':')\n",
    "    \n",
    "    ax.set_title(clpt*100)\n",
    "    \n",
    "    ax.set_xlabel('Time step in season')\n",
    "    ax.set_ylabel('NDVI')\n",
    "fig.tight_layout()"
   ]
  },
  {
   "cell_type": "code",
   "execution_count": null,
   "metadata": {},
   "outputs": [],
   "source": [
    "plt.scatter(cloud[good_ix], weights)"
   ]
  },
  {
   "cell_type": "code",
   "execution_count": null,
   "metadata": {},
   "outputs": [],
   "source": []
  }
 ],
 "metadata": {
  "kernelspec": {
   "display_name": "Python 3 unstable (using the module python3/unstable)",
   "language": "python",
   "name": "python3_unstable"
  },
  "language_info": {
   "codemirror_mode": {
    "name": "ipython",
    "version": 3
   },
   "file_extension": ".py",
   "mimetype": "text/x-python",
   "name": "python",
   "nbconvert_exporter": "python",
   "pygments_lexer": "ipython3",
   "version": "3.8.6"
  }
 },
 "nbformat": 4,
 "nbformat_minor": 4
}
